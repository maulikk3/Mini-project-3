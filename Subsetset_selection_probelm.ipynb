{
  "nbformat": 4,
  "nbformat_minor": 0,
  "metadata": {
    "colab": {
      "provenance": [],
      "authorship_tag": "ABX9TyMza1ADE68HhBSQjrduXPb/",
      "include_colab_link": true
    },
    "kernelspec": {
      "name": "python3",
      "display_name": "Python 3"
    },
    "language_info": {
      "name": "python"
    }
  },
  "cells": [
    {
      "cell_type": "markdown",
      "metadata": {
        "id": "view-in-github",
        "colab_type": "text"
      },
      "source": [
        "<a href=\"https://colab.research.google.com/github/maulikk3/Mini-project-3/blob/main/Subsetset_selection_probelm.ipynb\" target=\"_parent\"><img src=\"https://colab.research.google.com/assets/colab-badge.svg\" alt=\"Open In Colab\"/></a>"
      ]
    },
    {
      "cell_type": "markdown",
      "source": [
        "Subset Selection Problem\n",
        "1. Problem Statement:\n",
        "Find all the subsets from a set of numbers whose sum is zero.\n",
        "\n",
        "Constraint: Subset size must be 5\n",
        "Set={-12, -3, -6, 7, 2, -2, 6, 3, 9, -7, -5, -8, 1, 11, -9, -4}"
      ],
      "metadata": {
        "id": "QjddKXfW9hK9"
      }
    },
    {
      "cell_type": "code",
      "execution_count": 2,
      "metadata": {
        "id": "TPfhTxFJ9WMY"
      },
      "outputs": [],
      "source": [
        "import random as r\n",
        "Set=[-12, -3, -6, 7, 2, -2, 6, 3, 9, -7, -5, -8, 1, 11, -9, -4]\n",
        "res=set()\n",
        "iterations=1000\n",
        "for _ in range(iterations):\n",
        "  set_size=r.randint(3,6)\n",
        "  chr=r.sample(Set,set_size)\n",
        "  if sum(chr)==0:\n",
        "    res.add(tuple(sorted(chr)))"
      ]
    },
    {
      "cell_type": "code",
      "source": [
        "for r in res:\n",
        "  print(r,'\\n')"
      ],
      "metadata": {
        "colab": {
          "base_uri": "https://localhost:8080/"
        },
        "id": "QojQ8Mht-iOq",
        "outputId": "3b50aeae-3684-4ded-e3fb-da2d4200d1f8"
      },
      "execution_count": 3,
      "outputs": [
        {
          "output_type": "stream",
          "name": "stdout",
          "text": [
            "(-9, -8, 2, 6, 9) \n",
            "\n",
            "(-9, -7, 2, 3, 11) \n",
            "\n",
            "(-6, -2, 1, 7) \n",
            "\n",
            "(-12, 3, 9) \n",
            "\n",
            "(-12, -2, 3, 11) \n",
            "\n",
            "(-12, -4, -2, 2, 7, 9) \n",
            "\n",
            "(-12, -6, -4, 2, 9, 11) \n",
            "\n",
            "(-5, -4, 2, 7) \n",
            "\n",
            "(-5, -4, 3, 6) \n",
            "\n",
            "(-12, 1, 11) \n",
            "\n",
            "(-7, -2, 9) \n",
            "\n",
            "(-12, 2, 3, 7) \n",
            "\n",
            "(-8, -3, -2, 6, 7) \n",
            "\n",
            "(-7, -6, -2, 2, 6, 7) \n",
            "\n",
            "(-8, -2, 1, 3, 6) \n",
            "\n",
            "(-9, -7, 7, 9) \n",
            "\n",
            "(-4, -3, -2, 3, 6) \n",
            "\n",
            "(-6, -3, 9) \n",
            "\n",
            "(-8, -5, -3, -2, 7, 11) \n",
            "\n",
            "(-12, -4, -2, 1, 6, 11) \n",
            "\n",
            "(-6, -5, 11) \n",
            "\n",
            "(-5, -4, 9) \n",
            "\n",
            "(-8, -4, 3, 9) \n",
            "\n",
            "(-9, -6, 2, 6, 7) \n",
            "\n",
            "(-12, -7, -2, 3, 7, 11) \n",
            "\n",
            "(-12, -7, 1, 7, 11) \n",
            "\n",
            "(-7, -5, -3, -2, 6, 11) \n",
            "\n",
            "(-9, -5, -2, 3, 6, 7) \n",
            "\n",
            "(-3, 1, 2) \n",
            "\n"
          ]
        }
      ]
    },
    {
      "cell_type": "markdown",
      "source": [
        "\n",
        "2. Problem Statement:\n",
        "Find all the subsets from a set of numbers whose sum is zero.\n",
        "\n",
        "Constraint: Subset size must be 3 to 6 only\n",
        "Set={-12, -3, -6, 7, 2, -2, 6, 3, 9, -7, -5, -8, 1, 11, -9, -4}\n"
      ],
      "metadata": {
        "id": "1KNDgs6g-2IW"
      }
    },
    {
      "cell_type": "code",
      "source": [
        "import random as r\n",
        "Set=[-12, -3, -6, 7, 2, -2, 6, 3, 9, -7, -5, -8, 1, 11, -9, -4]\n",
        "res=set()\n",
        "iterations=1000\n",
        "for _ in range(iterations):\n",
        "  set_size=r.randint(3,6)\n",
        "  chr=r.sample(Set,set_size)\n",
        "  if sum(chr)==0:\n",
        "    res.add(tuple(sorted(chr)))"
      ],
      "metadata": {
        "id": "Y7xFqiOf-6B5"
      },
      "execution_count": 5,
      "outputs": []
    },
    {
      "cell_type": "code",
      "source": [
        "for r in res:\n",
        "  print(r,'\\n')"
      ],
      "metadata": {
        "colab": {
          "base_uri": "https://localhost:8080/"
        },
        "id": "nja-zbRo-9Ir",
        "outputId": "9705cd1f-06f4-46c9-cdaa-4da13dd9f7b0"
      },
      "execution_count": 6,
      "outputs": [
        {
          "output_type": "stream",
          "name": "stdout",
          "text": [
            "(-12, -5, 6, 11) \n",
            "\n",
            "(-7, -3, 1, 3, 6) \n",
            "\n",
            "(-8, -5, 1, 2, 3, 7) \n",
            "\n",
            "(-5, 2, 3) \n",
            "\n",
            "(-6, -3, -2, 1, 3, 7) \n",
            "\n",
            "(-9, -2, 2, 9) \n",
            "\n",
            "(-7, -6, -3, 3, 6, 7) \n",
            "\n",
            "(-5, -4, 3, 6) \n",
            "\n",
            "(-12, 1, 11) \n",
            "\n",
            "(-6, -4, 1, 9) \n",
            "\n",
            "(-9, -4, 2, 11) \n",
            "\n",
            "(-7, -5, 2, 3, 7) \n",
            "\n",
            "(-8, -2, 1, 9) \n",
            "\n",
            "(-5, -3, -2, 3, 7) \n",
            "\n",
            "(-6, -3, 1, 2, 6) \n",
            "\n",
            "(-12, -6, 1, 2, 6, 9) \n",
            "\n",
            "(-8, -7, 1, 2, 3, 9) \n",
            "\n",
            "(-8, -3, -2, 2, 11) \n",
            "\n",
            "(-12, -5, -3, 3, 6, 11) \n",
            "\n",
            "(-9, -4, -3, -2, 7, 11) \n",
            "\n",
            "(-8, -6, -5, 1, 7, 11) \n",
            "\n",
            "(-9, -7, 1, 2, 6, 7) \n",
            "\n",
            "(-9, -3, -2, 3, 11) \n",
            "\n",
            "(-6, -5, -2, 6, 7) \n",
            "\n",
            "(-8, -7, -3, -2, 9, 11) \n",
            "\n",
            "(-12, -8, 9, 11) \n",
            "\n",
            "(-3, 1, 2) \n",
            "\n"
          ]
        }
      ]
    }
  ]
}